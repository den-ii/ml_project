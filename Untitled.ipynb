{
 "cells": [
  {
   "cell_type": "markdown",
   "id": "ff6f26c8-682e-4da2-9fe8-46cb4017a58f",
   "metadata": {},
   "source": [
    "# Machine Learning Workflow"
   ]
  },
  {
   "cell_type": "markdown",
   "id": "be096aca-9d88-482d-8c6d-ff7b007ada11",
   "metadata": {},
   "source": [
    "## 0. imports and prepare data."
   ]
  },
  {
   "cell_type": "code",
   "execution_count": null,
   "id": "29ab9613-8886-4973-9303-46fa50c62e2a",
   "metadata": {},
   "outputs": [],
   "source": [
    "import "
   ]
  }
 ],
 "metadata": {
  "kernelspec": {
   "display_name": "Python 3 (ipykernel)",
   "language": "python",
   "name": "python3"
  },
  "language_info": {
   "codemirror_mode": {
    "name": "ipython",
    "version": 3
   },
   "file_extension": ".py",
   "mimetype": "text/x-python",
   "name": "python",
   "nbconvert_exporter": "python",
   "pygments_lexer": "ipython3",
   "version": "3.12.7"
  }
 },
 "nbformat": 4,
 "nbformat_minor": 5
}
